{
 "cells": [
  {
   "cell_type": "markdown",
   "id": "60cdcec1",
   "metadata": {},
   "source": [
    "<div style=\"text-align:center; border:2px solid red; padding: 10px 0\">\n",
    "    <h2 style=\"font-size:2.2em\">Challenge 1 </h2>\n",
    "</div>"
   ]
  },
  {
   "cell_type": "code",
   "execution_count": 9,
   "id": "f258b878",
   "metadata": {},
   "outputs": [],
   "source": [
    "def lin_reg1(X, w, b): \n",
    "    return X[0]*w[0] + X[1]*w[1] + X[2]*w[2] + X[3]*w[3] + b"
   ]
  },
  {
   "cell_type": "code",
   "execution_count": 10,
   "id": "3b606aca",
   "metadata": {},
   "outputs": [],
   "source": [
    "X = [1, -3.1, -7.2, 2.1]\n",
    "w = [2.1, 1.2, 0.3, 1.3]\n",
    "b = -3"
   ]
  },
  {
   "cell_type": "code",
   "execution_count": 11,
   "id": "bb2fde44",
   "metadata": {},
   "outputs": [],
   "source": [
    "def activation (x):\n",
    "    return x if x > 0 else 0"
   ]
  },
  {
   "cell_type": "code",
   "execution_count": 12,
   "id": "30c09db3",
   "metadata": {},
   "outputs": [
    {
     "data": {
      "text/plain": [
       "0"
      ]
     },
     "execution_count": 12,
     "metadata": {},
     "output_type": "execute_result"
    }
   ],
   "source": [
    "out_1= activation(lin_reg1(X,w,b))\n",
    "out_1"
   ]
  },
  {
   "cell_type": "code",
   "execution_count": 13,
   "id": "6689a1c8",
   "metadata": {},
   "outputs": [
    {
     "data": {
      "text/plain": [
       "0"
      ]
     },
     "execution_count": 13,
     "metadata": {},
     "output_type": "execute_result"
    }
   ],
   "source": [
    "w = [0.1, 1.2, 4.9, 3.1]\n",
    "b = -5\n",
    "out_2 = activation(lin_reg1(X,w,b))\n",
    "out_2"
   ]
  },
  {
   "cell_type": "code",
   "execution_count": 14,
   "id": "b72aea8f",
   "metadata": {},
   "outputs": [
    {
     "data": {
      "text/plain": [
       "0"
      ]
     },
     "execution_count": 14,
     "metadata": {},
     "output_type": "execute_result"
    }
   ],
   "source": [
    "w = [0.4, 2.6, 2.5, 3.8]\n",
    "b = -8\n",
    "out_3 = activation(lin_reg1(X,w,b))\n",
    "out_3"
   ]
  },
  {
   "cell_type": "code",
   "execution_count": 15,
   "id": "508011b9",
   "metadata": {},
   "outputs": [],
   "source": [
    "import math\n",
    "\n",
    "\n",
    "X = [out_1, out_2, out_3]\n",
    "w = [ 1.1, 4.1, 0.7]\n",
    "b = 5.1\n",
    "\n",
    "\n",
    "def linreg_next_layer(X, w, b) :\n",
    "    return X[0]*w[0] + X[1]*w[1] + X[2]*w[2] + b\n",
    "\n",
    "\n",
    "def activation_next_layer(x) :\n",
    "    return 1/ ( 1 + math.exp(-x))\n",
    "    \n",
    "    "
   ]
  },
  {
   "cell_type": "code",
   "execution_count": 16,
   "id": "0ec00646",
   "metadata": {},
   "outputs": [
    {
     "data": {
      "text/plain": [
       "0.9939401985084158"
      ]
     },
     "execution_count": 16,
     "metadata": {},
     "output_type": "execute_result"
    }
   ],
   "source": [
    "y_pred = activation_next_layer(linreg_next_layer(X, w, b))\n",
    "y_pred"
   ]
  }
 ],
 "metadata": {
  "kernelspec": {
   "display_name": "Python 3 (ipykernel)",
   "language": "python",
   "name": "python3"
  },
  "language_info": {
   "codemirror_mode": {
    "name": "ipython",
    "version": 3
   },
   "file_extension": ".py",
   "mimetype": "text/x-python",
   "name": "python",
   "nbconvert_exporter": "python",
   "pygments_lexer": "ipython3",
   "version": "3.10.7"
  }
 },
 "nbformat": 4,
 "nbformat_minor": 5
}
